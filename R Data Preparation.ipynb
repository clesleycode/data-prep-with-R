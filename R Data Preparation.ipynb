{
 "cells": [
  {
   "cell_type": "markdown",
   "metadata": {},
   "source": [
    "## Setup\n",
    "\n",
    "This guide was written in R 3.2.3.\n",
    "\n",
    "\n",
    "### R and R Studio\n",
    "\n",
    "Install [R](https://www.r-project.org/) and [R Studio](https://www.rstudio.com/products/rstudio/download/).\n",
    "\n",
    "Next, to install the R packages, cd into your workspace, and enter the following, very simple, command into your bash: \n",
    "\n",
    "```\n",
    "R\n",
    "```\n",
    "\n",
    "This will prompt a session in R! From here, you can install any needed packages. For the sake of this tutorial, enter the following into your terminal R session:\n",
    "\n",
    "```\n",
    "install.packages(\"dplyr\")\n",
    "install.packages(\"downloader\")\n",
    "```\n"
   ]
  },
  {
   "cell_type": "markdown",
   "metadata": {},
   "source": [
    "## Introduction\n",
    "\n",
    "We've gone over Data Acquisition as of now, so we know how to <i>get</i> our data. But once you have the data, it might not be in the best shape. You might have scraped a bunch of data from a website, but need it in the form of a dataframe to work with it in an easier manner. This process is called data preparation - preparing your data in a format that's easiest to form with.\n",
    "\n",
    "### Overview\n",
    "\n",
    "<b> Data Acquisition: </b> Reading and writing with a variety of file formats and databases. <br>\n",
    "<b> Preparation: </b> Cleaning, munging, combining, normalizing, reshaping, slicing and dicing, and transforming data for analysis. <br>\n",
    "<b> Transformation: </b> Applying mathematical and statistical operations to groups of data sets to derive new data sets. For example, aggregating a large table by group variables. <br>\n",
    "<b> Modeling and computation: </b> Connecting your data to statistical models, machine learning algorithms, or other computational tools <br>\n",
    "<b> Presentation: </b> Creating interactive or static graphical visualizations or textual summaries <br>\n"
   ]
  },
  {
   "cell_type": "markdown",
   "metadata": {},
   "source": [
    "## Data Merging\n",
    "\n",
    "If you encounter two different datasets that contain the same type of information, you might consider merging them for your analyses.  \n",
    "\n",
    "Let's go through an example containing student data. `d1` contains 5 of the samples and `d2` contains 2 of them: "
   ]
  },
  {
   "cell_type": "code",
   "execution_count": 1,
   "metadata": {},
   "outputs": [
    {
     "name": "stdout",
     "output_type": "stream",
     "text": [
      "  First.Name Last.Name\n",
      "1     Lesley   Cordero\n",
      "2       Ojas     Sathe\n",
      "3      Helen      Chen\n",
      "4        Eli  Epperson\n",
      "5      Jacob Greenberg\n"
     ]
    }
   ],
   "source": [
    "d1 <- read.csv(\"./names_original.csv\")\n",
    "print(d1)"
   ]
  },
  {
   "cell_type": "code",
   "execution_count": 5,
   "metadata": {},
   "outputs": [
    {
     "name": "stderr",
     "output_type": "stream",
     "text": [
      "Warning message in read.table(file = file, header = header, sep = sep, quote = quote, :\n",
      "“incomplete final line found by readTableHeader on './names_add.csv'”"
     ]
    },
    {
     "name": "stdout",
     "output_type": "stream",
     "text": [
      "  First.Name Last.Name\n",
      "1     Martin     Perez\n",
      "2      Menna   Elsayed\n"
     ]
    }
   ],
   "source": [
    "d2 <- read.csv(\"./names_add.csv\")\n",
    "print(d2)"
   ]
  },
  {
   "cell_type": "markdown",
   "metadata": {},
   "source": [
    "Instead of working with two separate datasets, it's much easier to simply merge, so we do this with the `merge()` function:"
   ]
  },
  {
   "cell_type": "code",
   "execution_count": 9,
   "metadata": {},
   "outputs": [
    {
     "name": "stdout",
     "output_type": "stream",
     "text": [
      "  First.Name Last.Name\n",
      "1        Eli  Epperson\n",
      "2      Helen      Chen\n",
      "3      Jacob Greenberg\n",
      "4     Lesley   Cordero\n",
      "5       Ojas     Sathe\n",
      "6     Martin     Perez\n",
      "7      Menna   Elsayed\n"
     ]
    }
   ],
   "source": [
    "result <- merge(d1, d2, all=TRUE)\n",
    "print(result)"
   ]
  },
  {
   "cell_type": "markdown",
   "metadata": {},
   "source": [
    "Now, you might be asking what will happen if one of the datasets has more columns than other - will they still be allowed to merge? Let's try this example with another dataset:"
   ]
  },
  {
   "cell_type": "code",
   "execution_count": 82,
   "metadata": {},
   "outputs": [
    {
     "name": "stderr",
     "output_type": "stream",
     "text": [
      "Warning message in read.table(file = file, header = header, sep = sep, quote = quote, :\n",
      "“incomplete final line found by readTableHeader on './names_extra.csv'”"
     ]
    },
    {
     "name": "stdout",
     "output_type": "stream",
     "text": [
      "  First.Name Last.Name                  Major\n",
      "1     Martin     Perez Mechanical Engineering\n",
      "2      Menna   Elsayed              Sociology\n"
     ]
    }
   ],
   "source": [
    "d3 <- read.csv(\"./names_extra.csv\")\n",
    "print(d3)"
   ]
  },
  {
   "cell_type": "markdown",
   "metadata": {},
   "source": [
    "If we use the same `merge` function, we get:"
   ]
  },
  {
   "cell_type": "code",
   "execution_count": 13,
   "metadata": {},
   "outputs": [
    {
     "name": "stdout",
     "output_type": "stream",
     "text": [
      "  First.Name Last.Name                  Major\n",
      "1        Eli  Epperson                   <NA>\n",
      "2      Helen      Chen                   <NA>\n",
      "3      Jacob Greenberg                   <NA>\n",
      "4     Lesley   Cordero                   <NA>\n",
      "5       Ojas     Sathe                   <NA>\n",
      "6     Martin     Perez Mechanical Engineering\n",
      "7      Menna   Elsayed              Sociology\n"
     ]
    }
   ],
   "source": [
    "result1 <- merge(d1, d3, all=TRUE)\n",
    "print(result1)"
   ]
  },
  {
   "cell_type": "markdown",
   "metadata": {},
   "source": [
    "Notice the `NA` values - these are undefined values indicating there wasn't any data to be displayed. R will simply fill in the missing data for each sample where it's unavailable."
   ]
  },
  {
   "cell_type": "markdown",
   "metadata": {},
   "source": [
    "Now, how do we merge two datasets with differing columns? Well, let's take a look at our datasets:"
   ]
  },
  {
   "cell_type": "code",
   "execution_count": 61,
   "metadata": {},
   "outputs": [
    {
     "name": "stdout",
     "output_type": "stream",
     "text": [
      "         Dorm           Name\n",
      "1 East Campus     Helen Chen\n",
      "2    Broadway  Danielle Jing\n",
      "3     Shapiro   Craig Rhodes\n",
      "4        Watt Lesley Cordero\n",
      "5 East Campus   Martin Perez\n",
      "6    Broadway  Menna Elsayed\n",
      "7     Wallach  Will Essilfie\n"
     ]
    }
   ],
   "source": [
    "h1 <- read.csv(\"./housing.csv\", stringsAsFactors=FALSE)\n",
    "print(h1)"
   ]
  },
  {
   "cell_type": "code",
   "execution_count": 62,
   "metadata": {},
   "outputs": [
    {
     "name": "stdout",
     "output_type": "stream",
     "text": [
      "         Dorm Street   Cost\n",
      "1    Broadway  114th   9000\n",
      "2     Shapiro  115th   9500\n",
      "3        Watt  113th  10500\n",
      "4 East Campus  116th 11,000\n",
      "5     Wallach  114th   9500\n"
     ]
    }
   ],
   "source": [
    "h2 <- read.csv(\"./dorms.csv\", stringsAsFactors=FALSE)\n",
    "print(h2)"
   ]
  },
  {
   "cell_type": "markdown",
   "metadata": {},
   "source": [
    "With the `merge()` function in pandas, we can specify which column to merge on and what kind of join to specify. By default merge does an 'inner' join, but here we set it to a left join:"
   ]
  },
  {
   "cell_type": "code",
   "execution_count": 63,
   "metadata": {},
   "outputs": [
    {
     "name": "stdout",
     "output_type": "stream",
     "text": [
      "         Dorm           Name Street   Cost\n",
      "1    Broadway  Danielle Jing  114th   9000\n",
      "2    Broadway  Menna Elsayed  114th   9000\n",
      "3 East Campus     Helen Chen  116th 11,000\n",
      "4 East Campus   Martin Perez  116th 11,000\n",
      "5     Shapiro   Craig Rhodes  115th   9500\n",
      "6     Wallach  Will Essilfie  114th   9500\n",
      "7        Watt Lesley Cordero  113th  10500\n"
     ]
    }
   ],
   "source": [
    "house <- merge(h1, h2, by=\"Dorm\")\n",
    "print(house)"
   ]
  },
  {
   "cell_type": "markdown",
   "metadata": {
    "collapsed": true
   },
   "source": [
    "### Dropping Columns\n",
    "\n",
    "After completing the different operations we've reviewed so far, you'll find that our `house` dataframe now has 4 columns. But what if we figured out that the street isn't so important? Can we just get rid of this column? Turns out we can. "
   ]
  },
  {
   "cell_type": "code",
   "execution_count": 76,
   "metadata": {},
   "outputs": [
    {
     "name": "stdout",
     "output_type": "stream",
     "text": [
      "         Dorm           Name   Cost\n",
      "1    Broadway  Danielle Jing   9000\n",
      "2    Broadway  Menna Elsayed   9000\n",
      "3 East Campus     Helen Chen 11,000\n",
      "4 East Campus   Martin Perez 11,000\n",
      "5     Shapiro   Craig Rhodes   9500\n",
      "6     Wallach  Will Essilfie   9500\n",
      "7        Watt Lesley Cordero  10500\n"
     ]
    }
   ],
   "source": [
    "house1 <- subset(house, select=-c(Street))\n",
    "print(house1)"
   ]
  },
  {
   "cell_type": "markdown",
   "metadata": {},
   "source": [
    "### Changing values\n",
    "\n",
    "When it comes to changing data in a DataFrame, many times the task is large and non-trivial. For example, what if the price of the East Campus dorm changed to $12,000? Would we really want to go through each column and change these by hand? Or even change them with for loops and indexing? Nah. Luckily, R gives us a short hand way of easily doing this. "
   ]
  },
  {
   "cell_type": "raw",
   "metadata": {},
   "source": [
    "house1$Cost[which(house1$Dorm==\"East Campus\")] <- 12000"
   ]
  },
  {
   "cell_type": "markdown",
   "metadata": {},
   "source": [
    "Now, let's break this down. Let's start with the innermost portion, which provides us the Dorm values for each row. "
   ]
  },
  {
   "cell_type": "code",
   "execution_count": 69,
   "metadata": {},
   "outputs": [
    {
     "name": "stdout",
     "output_type": "stream",
     "text": [
      "[1] \"Broadway\"    \"Broadway\"    \"East Campus\" \"East Campus\" \"Shapiro\"    \n",
      "[6] \"Wallach\"     \"Watt\"       \n"
     ]
    }
   ],
   "source": [
    "print(house1$Dorm)"
   ]
  },
  {
   "cell_type": "markdown",
   "metadata": {},
   "source": [
    "Now, let's add the second part of that innermost statement: "
   ]
  },
  {
   "cell_type": "code",
   "execution_count": 72,
   "metadata": {},
   "outputs": [
    {
     "name": "stdout",
     "output_type": "stream",
     "text": [
      "[1] FALSE FALSE  TRUE  TRUE FALSE FALSE FALSE\n"
     ]
    }
   ],
   "source": [
    "print(house1$Dorm==\"East Campus\")"
   ]
  },
  {
   "cell_type": "markdown",
   "metadata": {},
   "source": [
    "Now, we're testing for equality. This statement provides a vector of booleans that indicate whether or not the dorm is equal to the string \"East Campus\". \n",
    "\n",
    "When we add the `which` function around this statement, R is now selecting which rows output the value `TRUE` in the vector. In this case, it's rows 3 and 4. "
   ]
  },
  {
   "cell_type": "code",
   "execution_count": 74,
   "metadata": {},
   "outputs": [
    {
     "name": "stdout",
     "output_type": "stream",
     "text": [
      "[1] 3 4\n"
     ]
    }
   ],
   "source": [
    "print(which(house1$Dorm==\"East Campus\"))"
   ]
  },
  {
   "cell_type": "markdown",
   "metadata": {},
   "source": [
    "Since we now wrap the statement with house$Cost, it outputs back the cost values associated with the `East Campus`. "
   ]
  },
  {
   "cell_type": "code",
   "execution_count": 77,
   "metadata": {},
   "outputs": [
    {
     "data": {
      "text/html": [
       "<ol class=list-inline>\n",
       "\t<li>'11,000'</li>\n",
       "\t<li>'11,000'</li>\n",
       "</ol>\n"
      ],
      "text/latex": [
       "\\begin{enumerate*}\n",
       "\\item '11,000'\n",
       "\\item '11,000'\n",
       "\\end{enumerate*}\n"
      ],
      "text/markdown": [
       "1. '11,000'\n",
       "2. '11,000'\n",
       "\n",
       "\n"
      ],
      "text/plain": [
       "[1] \"11,000\" \"11,000\""
      ]
     },
     "metadata": {},
     "output_type": "display_data"
    }
   ],
   "source": [
    "print(house1$Cost[which(house1$Dorm==\"East Campus\")])"
   ]
  },
  {
   "cell_type": "markdown",
   "metadata": {},
   "source": [
    "And finally, we reset these rows to the changed value we want of 12,000. "
   ]
  },
  {
   "cell_type": "code",
   "execution_count": 79,
   "metadata": {},
   "outputs": [
    {
     "name": "stdout",
     "output_type": "stream",
     "text": [
      "         Dorm           Name  Cost\n",
      "1    Broadway  Danielle Jing  9000\n",
      "2    Broadway  Menna Elsayed  9000\n",
      "3 East Campus     Helen Chen 12000\n",
      "4 East Campus   Martin Perez 12000\n",
      "5     Shapiro   Craig Rhodes  9500\n",
      "6     Wallach  Will Essilfie  9500\n",
      "7        Watt Lesley Cordero 10500\n"
     ]
    }
   ],
   "source": [
    "house1$Cost[which(house1$Dorm==\"East Campus\")] <- 12000\n",
    "print(house1)"
   ]
  },
  {
   "cell_type": "code",
   "execution_count": null,
   "metadata": {
    "collapsed": true
   },
   "outputs": [],
   "source": []
  }
 ],
 "metadata": {
  "kernelspec": {
   "display_name": "R",
   "language": "R",
   "name": "ir"
  },
  "language_info": {
   "codemirror_mode": "r",
   "file_extension": ".r",
   "mimetype": "text/x-r-source",
   "name": "R",
   "pygments_lexer": "r",
   "version": "3.3.2"
  }
 },
 "nbformat": 4,
 "nbformat_minor": 2
}
